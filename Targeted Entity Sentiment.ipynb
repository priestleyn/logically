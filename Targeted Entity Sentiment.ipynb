{
  "nbformat": 4,
  "nbformat_minor": 0,
  "metadata": {
    "colab": {
      "name": "NLP.ipynb",
      "provenance": [],
      "collapsed_sections": [],
      "toc_visible": true,
      "machine_shape": "hm"
    },
    "kernelspec": {
      "name": "python3",
      "display_name": "Python 3"
    },
    "accelerator": "GPU",
    "widgets": {
      "application/vnd.jupyter.widget-state+json": {
        "7bc90445672640eca986607d71064369": {
          "model_module": "@jupyter-widgets/controls",
          "model_name": "HBoxModel",
          "state": {
            "_view_name": "HBoxView",
            "_dom_classes": [],
            "_model_name": "HBoxModel",
            "_view_module": "@jupyter-widgets/controls",
            "_model_module_version": "1.5.0",
            "_view_count": null,
            "_view_module_version": "1.5.0",
            "box_style": "",
            "layout": "IPY_MODEL_8ff3985cc11e4395a98d2f00d20571ca",
            "_model_module": "@jupyter-widgets/controls",
            "children": [
              "IPY_MODEL_3ea5b8091d614e03b67ef31f842bf846",
              "IPY_MODEL_7e09d6d12adf458187e8e1d391db8d48"
            ]
          }
        },
        "8ff3985cc11e4395a98d2f00d20571ca": {
          "model_module": "@jupyter-widgets/base",
          "model_name": "LayoutModel",
          "state": {
            "_view_name": "LayoutView",
            "grid_template_rows": null,
            "right": null,
            "justify_content": null,
            "_view_module": "@jupyter-widgets/base",
            "overflow": null,
            "_model_module_version": "1.2.0",
            "_view_count": null,
            "flex_flow": null,
            "width": null,
            "min_width": null,
            "border": null,
            "align_items": null,
            "bottom": null,
            "_model_module": "@jupyter-widgets/base",
            "top": null,
            "grid_column": null,
            "overflow_y": null,
            "overflow_x": null,
            "grid_auto_flow": null,
            "grid_area": null,
            "grid_template_columns": null,
            "flex": null,
            "_model_name": "LayoutModel",
            "justify_items": null,
            "grid_row": null,
            "max_height": null,
            "align_content": null,
            "visibility": null,
            "align_self": null,
            "height": null,
            "min_height": null,
            "padding": null,
            "grid_auto_rows": null,
            "grid_gap": null,
            "max_width": null,
            "order": null,
            "_view_module_version": "1.2.0",
            "grid_template_areas": null,
            "object_position": null,
            "object_fit": null,
            "grid_auto_columns": null,
            "margin": null,
            "display": null,
            "left": null
          }
        },
        "3ea5b8091d614e03b67ef31f842bf846": {
          "model_module": "@jupyter-widgets/controls",
          "model_name": "IntProgressModel",
          "state": {
            "_view_name": "ProgressView",
            "style": "IPY_MODEL_5268f913fbd34be98009c5c239d9d425",
            "_dom_classes": [],
            "description": "Epoch: 100%",
            "_model_name": "IntProgressModel",
            "bar_style": "success",
            "max": 3,
            "_view_module": "@jupyter-widgets/controls",
            "_model_module_version": "1.5.0",
            "value": 3,
            "_view_count": null,
            "_view_module_version": "1.5.0",
            "orientation": "horizontal",
            "min": 0,
            "description_tooltip": null,
            "_model_module": "@jupyter-widgets/controls",
            "layout": "IPY_MODEL_203947a4301e4d1fa68672c50573b0bb"
          }
        },
        "7e09d6d12adf458187e8e1d391db8d48": {
          "model_module": "@jupyter-widgets/controls",
          "model_name": "HTMLModel",
          "state": {
            "_view_name": "HTMLView",
            "style": "IPY_MODEL_354dd9bf320e44f393a3fd2dc283bcd2",
            "_dom_classes": [],
            "description": "",
            "_model_name": "HTMLModel",
            "placeholder": "​",
            "_view_module": "@jupyter-widgets/controls",
            "_model_module_version": "1.5.0",
            "value": " 3/3 [06:22&lt;00:00, 127.56s/it]",
            "_view_count": null,
            "_view_module_version": "1.5.0",
            "description_tooltip": null,
            "_model_module": "@jupyter-widgets/controls",
            "layout": "IPY_MODEL_648a01c9b4ce41fb93b99763dba94c89"
          }
        },
        "5268f913fbd34be98009c5c239d9d425": {
          "model_module": "@jupyter-widgets/controls",
          "model_name": "ProgressStyleModel",
          "state": {
            "_view_name": "StyleView",
            "_model_name": "ProgressStyleModel",
            "description_width": "initial",
            "_view_module": "@jupyter-widgets/base",
            "_model_module_version": "1.5.0",
            "_view_count": null,
            "_view_module_version": "1.2.0",
            "bar_color": null,
            "_model_module": "@jupyter-widgets/controls"
          }
        },
        "203947a4301e4d1fa68672c50573b0bb": {
          "model_module": "@jupyter-widgets/base",
          "model_name": "LayoutModel",
          "state": {
            "_view_name": "LayoutView",
            "grid_template_rows": null,
            "right": null,
            "justify_content": null,
            "_view_module": "@jupyter-widgets/base",
            "overflow": null,
            "_model_module_version": "1.2.0",
            "_view_count": null,
            "flex_flow": null,
            "width": null,
            "min_width": null,
            "border": null,
            "align_items": null,
            "bottom": null,
            "_model_module": "@jupyter-widgets/base",
            "top": null,
            "grid_column": null,
            "overflow_y": null,
            "overflow_x": null,
            "grid_auto_flow": null,
            "grid_area": null,
            "grid_template_columns": null,
            "flex": null,
            "_model_name": "LayoutModel",
            "justify_items": null,
            "grid_row": null,
            "max_height": null,
            "align_content": null,
            "visibility": null,
            "align_self": null,
            "height": null,
            "min_height": null,
            "padding": null,
            "grid_auto_rows": null,
            "grid_gap": null,
            "max_width": null,
            "order": null,
            "_view_module_version": "1.2.0",
            "grid_template_areas": null,
            "object_position": null,
            "object_fit": null,
            "grid_auto_columns": null,
            "margin": null,
            "display": null,
            "left": null
          }
        },
        "354dd9bf320e44f393a3fd2dc283bcd2": {
          "model_module": "@jupyter-widgets/controls",
          "model_name": "DescriptionStyleModel",
          "state": {
            "_view_name": "StyleView",
            "_model_name": "DescriptionStyleModel",
            "description_width": "",
            "_view_module": "@jupyter-widgets/base",
            "_model_module_version": "1.5.0",
            "_view_count": null,
            "_view_module_version": "1.2.0",
            "_model_module": "@jupyter-widgets/controls"
          }
        },
        "648a01c9b4ce41fb93b99763dba94c89": {
          "model_module": "@jupyter-widgets/base",
          "model_name": "LayoutModel",
          "state": {
            "_view_name": "LayoutView",
            "grid_template_rows": null,
            "right": null,
            "justify_content": null,
            "_view_module": "@jupyter-widgets/base",
            "overflow": null,
            "_model_module_version": "1.2.0",
            "_view_count": null,
            "flex_flow": null,
            "width": null,
            "min_width": null,
            "border": null,
            "align_items": null,
            "bottom": null,
            "_model_module": "@jupyter-widgets/base",
            "top": null,
            "grid_column": null,
            "overflow_y": null,
            "overflow_x": null,
            "grid_auto_flow": null,
            "grid_area": null,
            "grid_template_columns": null,
            "flex": null,
            "_model_name": "LayoutModel",
            "justify_items": null,
            "grid_row": null,
            "max_height": null,
            "align_content": null,
            "visibility": null,
            "align_self": null,
            "height": null,
            "min_height": null,
            "padding": null,
            "grid_auto_rows": null,
            "grid_gap": null,
            "max_width": null,
            "order": null,
            "_view_module_version": "1.2.0",
            "grid_template_areas": null,
            "object_position": null,
            "object_fit": null,
            "grid_auto_columns": null,
            "margin": null,
            "display": null,
            "left": null
          }
        },
        "f32e49fd0dd84e1a875eb378cad4db85": {
          "model_module": "@jupyter-widgets/controls",
          "model_name": "HBoxModel",
          "state": {
            "_view_name": "HBoxView",
            "_dom_classes": [],
            "_model_name": "HBoxModel",
            "_view_module": "@jupyter-widgets/controls",
            "_model_module_version": "1.5.0",
            "_view_count": null,
            "_view_module_version": "1.5.0",
            "box_style": "",
            "layout": "IPY_MODEL_89ade2c03e914ae6bc48a9364b8b8b7b",
            "_model_module": "@jupyter-widgets/controls",
            "children": [
              "IPY_MODEL_9a2e6fa267d94e94b1485cdf87b96e8b",
              "IPY_MODEL_1400d4606351464aa068a000b759d241"
            ]
          }
        },
        "89ade2c03e914ae6bc48a9364b8b8b7b": {
          "model_module": "@jupyter-widgets/base",
          "model_name": "LayoutModel",
          "state": {
            "_view_name": "LayoutView",
            "grid_template_rows": null,
            "right": null,
            "justify_content": null,
            "_view_module": "@jupyter-widgets/base",
            "overflow": null,
            "_model_module_version": "1.2.0",
            "_view_count": null,
            "flex_flow": null,
            "width": null,
            "min_width": null,
            "border": null,
            "align_items": null,
            "bottom": null,
            "_model_module": "@jupyter-widgets/base",
            "top": null,
            "grid_column": null,
            "overflow_y": null,
            "overflow_x": null,
            "grid_auto_flow": null,
            "grid_area": null,
            "grid_template_columns": null,
            "flex": null,
            "_model_name": "LayoutModel",
            "justify_items": null,
            "grid_row": null,
            "max_height": null,
            "align_content": null,
            "visibility": null,
            "align_self": null,
            "height": null,
            "min_height": null,
            "padding": null,
            "grid_auto_rows": null,
            "grid_gap": null,
            "max_width": null,
            "order": null,
            "_view_module_version": "1.2.0",
            "grid_template_areas": null,
            "object_position": null,
            "object_fit": null,
            "grid_auto_columns": null,
            "margin": null,
            "display": null,
            "left": null
          }
        },
        "9a2e6fa267d94e94b1485cdf87b96e8b": {
          "model_module": "@jupyter-widgets/controls",
          "model_name": "IntProgressModel",
          "state": {
            "_view_name": "ProgressView",
            "style": "IPY_MODEL_3759f94f1f2f4e86af2bb2bf44a71cf4",
            "_dom_classes": [],
            "description": "Train Iter: 100%",
            "_model_name": "IntProgressModel",
            "bar_style": "success",
            "max": 205,
            "_view_module": "@jupyter-widgets/controls",
            "_model_module_version": "1.5.0",
            "value": 205,
            "_view_count": null,
            "_view_module_version": "1.5.0",
            "orientation": "horizontal",
            "min": 0,
            "description_tooltip": null,
            "_model_module": "@jupyter-widgets/controls",
            "layout": "IPY_MODEL_590addc24fac4d47add2b53ef0a63128"
          }
        },
        "1400d4606351464aa068a000b759d241": {
          "model_module": "@jupyter-widgets/controls",
          "model_name": "HTMLModel",
          "state": {
            "_view_name": "HTMLView",
            "style": "IPY_MODEL_32a384c3c91944cc856c00ed4d6c2353",
            "_dom_classes": [],
            "description": "",
            "_model_name": "HTMLModel",
            "placeholder": "​",
            "_view_module": "@jupyter-widgets/controls",
            "_model_module_version": "1.5.0",
            "value": " 205/205 [06:22&lt;00:00,  1.87s/it]",
            "_view_count": null,
            "_view_module_version": "1.5.0",
            "description_tooltip": null,
            "_model_module": "@jupyter-widgets/controls",
            "layout": "IPY_MODEL_d224fae8b62d4af5ade658e267ee22e7"
          }
        },
        "3759f94f1f2f4e86af2bb2bf44a71cf4": {
          "model_module": "@jupyter-widgets/controls",
          "model_name": "ProgressStyleModel",
          "state": {
            "_view_name": "StyleView",
            "_model_name": "ProgressStyleModel",
            "description_width": "initial",
            "_view_module": "@jupyter-widgets/base",
            "_model_module_version": "1.5.0",
            "_view_count": null,
            "_view_module_version": "1.2.0",
            "bar_color": null,
            "_model_module": "@jupyter-widgets/controls"
          }
        },
        "590addc24fac4d47add2b53ef0a63128": {
          "model_module": "@jupyter-widgets/base",
          "model_name": "LayoutModel",
          "state": {
            "_view_name": "LayoutView",
            "grid_template_rows": null,
            "right": null,
            "justify_content": null,
            "_view_module": "@jupyter-widgets/base",
            "overflow": null,
            "_model_module_version": "1.2.0",
            "_view_count": null,
            "flex_flow": null,
            "width": null,
            "min_width": null,
            "border": null,
            "align_items": null,
            "bottom": null,
            "_model_module": "@jupyter-widgets/base",
            "top": null,
            "grid_column": null,
            "overflow_y": null,
            "overflow_x": null,
            "grid_auto_flow": null,
            "grid_area": null,
            "grid_template_columns": null,
            "flex": null,
            "_model_name": "LayoutModel",
            "justify_items": null,
            "grid_row": null,
            "max_height": null,
            "align_content": null,
            "visibility": null,
            "align_self": null,
            "height": null,
            "min_height": null,
            "padding": null,
            "grid_auto_rows": null,
            "grid_gap": null,
            "max_width": null,
            "order": null,
            "_view_module_version": "1.2.0",
            "grid_template_areas": null,
            "object_position": null,
            "object_fit": null,
            "grid_auto_columns": null,
            "margin": null,
            "display": null,
            "left": null
          }
        },
        "32a384c3c91944cc856c00ed4d6c2353": {
          "model_module": "@jupyter-widgets/controls",
          "model_name": "DescriptionStyleModel",
          "state": {
            "_view_name": "StyleView",
            "_model_name": "DescriptionStyleModel",
            "description_width": "",
            "_view_module": "@jupyter-widgets/base",
            "_model_module_version": "1.5.0",
            "_view_count": null,
            "_view_module_version": "1.2.0",
            "_model_module": "@jupyter-widgets/controls"
          }
        },
        "d224fae8b62d4af5ade658e267ee22e7": {
          "model_module": "@jupyter-widgets/base",
          "model_name": "LayoutModel",
          "state": {
            "_view_name": "LayoutView",
            "grid_template_rows": null,
            "right": null,
            "justify_content": null,
            "_view_module": "@jupyter-widgets/base",
            "overflow": null,
            "_model_module_version": "1.2.0",
            "_view_count": null,
            "flex_flow": null,
            "width": null,
            "min_width": null,
            "border": null,
            "align_items": null,
            "bottom": null,
            "_model_module": "@jupyter-widgets/base",
            "top": null,
            "grid_column": null,
            "overflow_y": null,
            "overflow_x": null,
            "grid_auto_flow": null,
            "grid_area": null,
            "grid_template_columns": null,
            "flex": null,
            "_model_name": "LayoutModel",
            "justify_items": null,
            "grid_row": null,
            "max_height": null,
            "align_content": null,
            "visibility": null,
            "align_self": null,
            "height": null,
            "min_height": null,
            "padding": null,
            "grid_auto_rows": null,
            "grid_gap": null,
            "max_width": null,
            "order": null,
            "_view_module_version": "1.2.0",
            "grid_template_areas": null,
            "object_position": null,
            "object_fit": null,
            "grid_auto_columns": null,
            "margin": null,
            "display": null,
            "left": null
          }
        },
        "4bf61974f6a6488daa87e64563360048": {
          "model_module": "@jupyter-widgets/controls",
          "model_name": "HBoxModel",
          "state": {
            "_view_name": "HBoxView",
            "_dom_classes": [],
            "_model_name": "HBoxModel",
            "_view_module": "@jupyter-widgets/controls",
            "_model_module_version": "1.5.0",
            "_view_count": null,
            "_view_module_version": "1.5.0",
            "box_style": "",
            "layout": "IPY_MODEL_c4993e251dec4864af0b425fba2a3155",
            "_model_module": "@jupyter-widgets/controls",
            "children": [
              "IPY_MODEL_513744aa81e04cc4a9af39a249bf86c3",
              "IPY_MODEL_390fbcfb0b3042378b96a30d4ec56f30"
            ]
          }
        },
        "c4993e251dec4864af0b425fba2a3155": {
          "model_module": "@jupyter-widgets/base",
          "model_name": "LayoutModel",
          "state": {
            "_view_name": "LayoutView",
            "grid_template_rows": null,
            "right": null,
            "justify_content": null,
            "_view_module": "@jupyter-widgets/base",
            "overflow": null,
            "_model_module_version": "1.2.0",
            "_view_count": null,
            "flex_flow": null,
            "width": null,
            "min_width": null,
            "border": null,
            "align_items": null,
            "bottom": null,
            "_model_module": "@jupyter-widgets/base",
            "top": null,
            "grid_column": null,
            "overflow_y": null,
            "overflow_x": null,
            "grid_auto_flow": null,
            "grid_area": null,
            "grid_template_columns": null,
            "flex": null,
            "_model_name": "LayoutModel",
            "justify_items": null,
            "grid_row": null,
            "max_height": null,
            "align_content": null,
            "visibility": null,
            "align_self": null,
            "height": null,
            "min_height": null,
            "padding": null,
            "grid_auto_rows": null,
            "grid_gap": null,
            "max_width": null,
            "order": null,
            "_view_module_version": "1.2.0",
            "grid_template_areas": null,
            "object_position": null,
            "object_fit": null,
            "grid_auto_columns": null,
            "margin": null,
            "display": null,
            "left": null
          }
        },
        "513744aa81e04cc4a9af39a249bf86c3": {
          "model_module": "@jupyter-widgets/controls",
          "model_name": "IntProgressModel",
          "state": {
            "_view_name": "ProgressView",
            "style": "IPY_MODEL_aa8315c6e4294a368170c64ecd981488",
            "_dom_classes": [],
            "description": "Train Iter: 100%",
            "_model_name": "IntProgressModel",
            "bar_style": "success",
            "max": 205,
            "_view_module": "@jupyter-widgets/controls",
            "_model_module_version": "1.5.0",
            "value": 205,
            "_view_count": null,
            "_view_module_version": "1.5.0",
            "orientation": "horizontal",
            "min": 0,
            "description_tooltip": null,
            "_model_module": "@jupyter-widgets/controls",
            "layout": "IPY_MODEL_0e27524b3e2341a1851cfcb55826ebdd"
          }
        },
        "390fbcfb0b3042378b96a30d4ec56f30": {
          "model_module": "@jupyter-widgets/controls",
          "model_name": "HTMLModel",
          "state": {
            "_view_name": "HTMLView",
            "style": "IPY_MODEL_d8c7c0dfe0ca4006b3e9cbc1a652cbf7",
            "_dom_classes": [],
            "description": "",
            "_model_name": "HTMLModel",
            "placeholder": "​",
            "_view_module": "@jupyter-widgets/controls",
            "_model_module_version": "1.5.0",
            "value": " 205/205 [02:07&lt;00:00,  1.61it/s]",
            "_view_count": null,
            "_view_module_version": "1.5.0",
            "description_tooltip": null,
            "_model_module": "@jupyter-widgets/controls",
            "layout": "IPY_MODEL_f3e5589af86947c48dff3660301edf0a"
          }
        },
        "aa8315c6e4294a368170c64ecd981488": {
          "model_module": "@jupyter-widgets/controls",
          "model_name": "ProgressStyleModel",
          "state": {
            "_view_name": "StyleView",
            "_model_name": "ProgressStyleModel",
            "description_width": "initial",
            "_view_module": "@jupyter-widgets/base",
            "_model_module_version": "1.5.0",
            "_view_count": null,
            "_view_module_version": "1.2.0",
            "bar_color": null,
            "_model_module": "@jupyter-widgets/controls"
          }
        },
        "0e27524b3e2341a1851cfcb55826ebdd": {
          "model_module": "@jupyter-widgets/base",
          "model_name": "LayoutModel",
          "state": {
            "_view_name": "LayoutView",
            "grid_template_rows": null,
            "right": null,
            "justify_content": null,
            "_view_module": "@jupyter-widgets/base",
            "overflow": null,
            "_model_module_version": "1.2.0",
            "_view_count": null,
            "flex_flow": null,
            "width": null,
            "min_width": null,
            "border": null,
            "align_items": null,
            "bottom": null,
            "_model_module": "@jupyter-widgets/base",
            "top": null,
            "grid_column": null,
            "overflow_y": null,
            "overflow_x": null,
            "grid_auto_flow": null,
            "grid_area": null,
            "grid_template_columns": null,
            "flex": null,
            "_model_name": "LayoutModel",
            "justify_items": null,
            "grid_row": null,
            "max_height": null,
            "align_content": null,
            "visibility": null,
            "align_self": null,
            "height": null,
            "min_height": null,
            "padding": null,
            "grid_auto_rows": null,
            "grid_gap": null,
            "max_width": null,
            "order": null,
            "_view_module_version": "1.2.0",
            "grid_template_areas": null,
            "object_position": null,
            "object_fit": null,
            "grid_auto_columns": null,
            "margin": null,
            "display": null,
            "left": null
          }
        },
        "d8c7c0dfe0ca4006b3e9cbc1a652cbf7": {
          "model_module": "@jupyter-widgets/controls",
          "model_name": "DescriptionStyleModel",
          "state": {
            "_view_name": "StyleView",
            "_model_name": "DescriptionStyleModel",
            "description_width": "",
            "_view_module": "@jupyter-widgets/base",
            "_model_module_version": "1.5.0",
            "_view_count": null,
            "_view_module_version": "1.2.0",
            "_model_module": "@jupyter-widgets/controls"
          }
        },
        "f3e5589af86947c48dff3660301edf0a": {
          "model_module": "@jupyter-widgets/base",
          "model_name": "LayoutModel",
          "state": {
            "_view_name": "LayoutView",
            "grid_template_rows": null,
            "right": null,
            "justify_content": null,
            "_view_module": "@jupyter-widgets/base",
            "overflow": null,
            "_model_module_version": "1.2.0",
            "_view_count": null,
            "flex_flow": null,
            "width": null,
            "min_width": null,
            "border": null,
            "align_items": null,
            "bottom": null,
            "_model_module": "@jupyter-widgets/base",
            "top": null,
            "grid_column": null,
            "overflow_y": null,
            "overflow_x": null,
            "grid_auto_flow": null,
            "grid_area": null,
            "grid_template_columns": null,
            "flex": null,
            "_model_name": "LayoutModel",
            "justify_items": null,
            "grid_row": null,
            "max_height": null,
            "align_content": null,
            "visibility": null,
            "align_self": null,
            "height": null,
            "min_height": null,
            "padding": null,
            "grid_auto_rows": null,
            "grid_gap": null,
            "max_width": null,
            "order": null,
            "_view_module_version": "1.2.0",
            "grid_template_areas": null,
            "object_position": null,
            "object_fit": null,
            "grid_auto_columns": null,
            "margin": null,
            "display": null,
            "left": null
          }
        },
        "bbd8640edd9941da8d6fdd1de4cd2936": {
          "model_module": "@jupyter-widgets/controls",
          "model_name": "HBoxModel",
          "state": {
            "_view_name": "HBoxView",
            "_dom_classes": [],
            "_model_name": "HBoxModel",
            "_view_module": "@jupyter-widgets/controls",
            "_model_module_version": "1.5.0",
            "_view_count": null,
            "_view_module_version": "1.5.0",
            "box_style": "",
            "layout": "IPY_MODEL_6b1197c3d2854b4b97200d8c3b5eeb8a",
            "_model_module": "@jupyter-widgets/controls",
            "children": [
              "IPY_MODEL_a3c8679eeeda4129a5c38038f9355ac9",
              "IPY_MODEL_021d93c5dd084dbe85962b43b58ba8bb"
            ]
          }
        },
        "6b1197c3d2854b4b97200d8c3b5eeb8a": {
          "model_module": "@jupyter-widgets/base",
          "model_name": "LayoutModel",
          "state": {
            "_view_name": "LayoutView",
            "grid_template_rows": null,
            "right": null,
            "justify_content": null,
            "_view_module": "@jupyter-widgets/base",
            "overflow": null,
            "_model_module_version": "1.2.0",
            "_view_count": null,
            "flex_flow": null,
            "width": null,
            "min_width": null,
            "border": null,
            "align_items": null,
            "bottom": null,
            "_model_module": "@jupyter-widgets/base",
            "top": null,
            "grid_column": null,
            "overflow_y": null,
            "overflow_x": null,
            "grid_auto_flow": null,
            "grid_area": null,
            "grid_template_columns": null,
            "flex": null,
            "_model_name": "LayoutModel",
            "justify_items": null,
            "grid_row": null,
            "max_height": null,
            "align_content": null,
            "visibility": null,
            "align_self": null,
            "height": null,
            "min_height": null,
            "padding": null,
            "grid_auto_rows": null,
            "grid_gap": null,
            "max_width": null,
            "order": null,
            "_view_module_version": "1.2.0",
            "grid_template_areas": null,
            "object_position": null,
            "object_fit": null,
            "grid_auto_columns": null,
            "margin": null,
            "display": null,
            "left": null
          }
        },
        "a3c8679eeeda4129a5c38038f9355ac9": {
          "model_module": "@jupyter-widgets/controls",
          "model_name": "IntProgressModel",
          "state": {
            "_view_name": "ProgressView",
            "style": "IPY_MODEL_84ff06abc43a44b4a6bdbbc07c1bf77c",
            "_dom_classes": [],
            "description": "Train Iter: 100%",
            "_model_name": "IntProgressModel",
            "bar_style": "success",
            "max": 205,
            "_view_module": "@jupyter-widgets/controls",
            "_model_module_version": "1.5.0",
            "value": 205,
            "_view_count": null,
            "_view_module_version": "1.5.0",
            "orientation": "horizontal",
            "min": 0,
            "description_tooltip": null,
            "_model_module": "@jupyter-widgets/controls",
            "layout": "IPY_MODEL_cd5b0790aed94377ac31d0cc2d452934"
          }
        },
        "021d93c5dd084dbe85962b43b58ba8bb": {
          "model_module": "@jupyter-widgets/controls",
          "model_name": "HTMLModel",
          "state": {
            "_view_name": "HTMLView",
            "style": "IPY_MODEL_c0363d39378045e28b09f4c903b79dea",
            "_dom_classes": [],
            "description": "",
            "_model_name": "HTMLModel",
            "placeholder": "​",
            "_view_module": "@jupyter-widgets/controls",
            "_model_module_version": "1.5.0",
            "value": " 205/205 [02:07&lt;00:00,  1.61it/s]",
            "_view_count": null,
            "_view_module_version": "1.5.0",
            "description_tooltip": null,
            "_model_module": "@jupyter-widgets/controls",
            "layout": "IPY_MODEL_f5fc84dad656441f8c379bc326126a5f"
          }
        },
        "84ff06abc43a44b4a6bdbbc07c1bf77c": {
          "model_module": "@jupyter-widgets/controls",
          "model_name": "ProgressStyleModel",
          "state": {
            "_view_name": "StyleView",
            "_model_name": "ProgressStyleModel",
            "description_width": "initial",
            "_view_module": "@jupyter-widgets/base",
            "_model_module_version": "1.5.0",
            "_view_count": null,
            "_view_module_version": "1.2.0",
            "bar_color": null,
            "_model_module": "@jupyter-widgets/controls"
          }
        },
        "cd5b0790aed94377ac31d0cc2d452934": {
          "model_module": "@jupyter-widgets/base",
          "model_name": "LayoutModel",
          "state": {
            "_view_name": "LayoutView",
            "grid_template_rows": null,
            "right": null,
            "justify_content": null,
            "_view_module": "@jupyter-widgets/base",
            "overflow": null,
            "_model_module_version": "1.2.0",
            "_view_count": null,
            "flex_flow": null,
            "width": null,
            "min_width": null,
            "border": null,
            "align_items": null,
            "bottom": null,
            "_model_module": "@jupyter-widgets/base",
            "top": null,
            "grid_column": null,
            "overflow_y": null,
            "overflow_x": null,
            "grid_auto_flow": null,
            "grid_area": null,
            "grid_template_columns": null,
            "flex": null,
            "_model_name": "LayoutModel",
            "justify_items": null,
            "grid_row": null,
            "max_height": null,
            "align_content": null,
            "visibility": null,
            "align_self": null,
            "height": null,
            "min_height": null,
            "padding": null,
            "grid_auto_rows": null,
            "grid_gap": null,
            "max_width": null,
            "order": null,
            "_view_module_version": "1.2.0",
            "grid_template_areas": null,
            "object_position": null,
            "object_fit": null,
            "grid_auto_columns": null,
            "margin": null,
            "display": null,
            "left": null
          }
        },
        "c0363d39378045e28b09f4c903b79dea": {
          "model_module": "@jupyter-widgets/controls",
          "model_name": "DescriptionStyleModel",
          "state": {
            "_view_name": "StyleView",
            "_model_name": "DescriptionStyleModel",
            "description_width": "",
            "_view_module": "@jupyter-widgets/base",
            "_model_module_version": "1.5.0",
            "_view_count": null,
            "_view_module_version": "1.2.0",
            "_model_module": "@jupyter-widgets/controls"
          }
        },
        "f5fc84dad656441f8c379bc326126a5f": {
          "model_module": "@jupyter-widgets/base",
          "model_name": "LayoutModel",
          "state": {
            "_view_name": "LayoutView",
            "grid_template_rows": null,
            "right": null,
            "justify_content": null,
            "_view_module": "@jupyter-widgets/base",
            "overflow": null,
            "_model_module_version": "1.2.0",
            "_view_count": null,
            "flex_flow": null,
            "width": null,
            "min_width": null,
            "border": null,
            "align_items": null,
            "bottom": null,
            "_model_module": "@jupyter-widgets/base",
            "top": null,
            "grid_column": null,
            "overflow_y": null,
            "overflow_x": null,
            "grid_auto_flow": null,
            "grid_area": null,
            "grid_template_columns": null,
            "flex": null,
            "_model_name": "LayoutModel",
            "justify_items": null,
            "grid_row": null,
            "max_height": null,
            "align_content": null,
            "visibility": null,
            "align_self": null,
            "height": null,
            "min_height": null,
            "padding": null,
            "grid_auto_rows": null,
            "grid_gap": null,
            "max_width": null,
            "order": null,
            "_view_module_version": "1.2.0",
            "grid_template_areas": null,
            "object_position": null,
            "object_fit": null,
            "grid_auto_columns": null,
            "margin": null,
            "display": null,
            "left": null
          }
        }
      }
    }
  },
  "cells": [
    {
      "cell_type": "markdown",
      "metadata": {
        "id": "l5UtmGvgViyF",
        "colab_type": "text"
      },
      "source": [
        "# Setup"
      ]
    },
    {
      "cell_type": "code",
      "metadata": {
        "id": "Gxgvr0HZH8uP",
        "colab_type": "code",
        "colab": {}
      },
      "source": [
        "! pip install transformers --quiet"
      ],
      "execution_count": 0,
      "outputs": []
    },
    {
      "cell_type": "code",
      "metadata": {
        "id": "2E7lOjrNpxKU",
        "colab_type": "code",
        "outputId": "8e8a8bdc-1306-42ff-9583-e5f02fa7b935",
        "colab": {
          "base_uri": "https://localhost:8080/",
          "height": 34
        }
      },
      "source": [
        "import pandas as pd\n",
        "import numpy as np\n",
        "import os\n",
        "import matplotlib\n",
        "import torch\n",
        "import torch.nn.functional as F\n",
        "import random\n",
        "import matplotlib.pyplot as plt\n",
        "\n",
        "from transformers import BertTokenizer, BertForSequenceClassification, AdamW\n",
        "from sklearn.metrics import roc_auc_score, f1_score, precision_recall_curve\n",
        "from tqdm.notebook import tqdm\n",
        "from torch.utils.data import TensorDataset, random_split, DataLoader, RandomSampler, SequentialSampler\n",
        "\n",
        "device = torch.device('cuda' if torch.cuda.is_available() else 'cpu')\n",
        "\n",
        "matplotlib.rcParams['figure.figsize'] = (10.0, 5.0)\n",
        "\n",
        "# today's date\n",
        "SEED = 20200420 \n",
        "\n",
        "# Good practice for reproducibility\n",
        "random.seed(SEED)\n",
        "np.random.seed(SEED)\n",
        "torch.manual_seed(SEED)"
      ],
      "execution_count": 2,
      "outputs": [
        {
          "output_type": "execute_result",
          "data": {
            "text/plain": [
              "<torch._C.Generator at 0x7f2d75f2e090>"
            ]
          },
          "metadata": {
            "tags": []
          },
          "execution_count": 2
        }
      ]
    },
    {
      "cell_type": "markdown",
      "metadata": {
        "id": "yMfKyfkzV1wZ",
        "colab_type": "text"
      },
      "source": [
        "Colab specfic setup"
      ]
    },
    {
      "cell_type": "code",
      "metadata": {
        "id": "_DSaBpouNbLK",
        "colab_type": "code",
        "colab": {}
      },
      "source": [
        "# You need to upload the files manually here....\n",
        "files = ['Entity_sentiment_trainV2.xlsx', 'Entity_sentiment_testV2.xlsx', 'test_small.csv', 'Semeval2014_exact_train.csv', \n",
        "         'Semeval2014_exact_test.csv', 'Semeval2014_train.csv', 'Semeval2014_test.csv']\n",
        "\n",
        "drive_path = '/content/drive/My Drive/Colab/data/'\n",
        "\n",
        "for file in files:\n",
        "    if not os.path.exists(file):\n",
        "        if os.path.exists(drive_path):\n",
        "            print(f'Copying {file}')\n",
        "            ! cp '{drive_path}{file}' .\n",
        "        else:\n",
        "            if file != 'test_small.csv':\n",
        "                raise Exception(f'You need to manually upload {file}')"
      ],
      "execution_count": 0,
      "outputs": []
    },
    {
      "cell_type": "markdown",
      "metadata": {
        "id": "HBw2eB4Tx6hp",
        "colab_type": "text"
      },
      "source": [
        "# Data Prep / Utilities"
      ]
    },
    {
      "cell_type": "code",
      "metadata": {
        "id": "V1DWM63DOkN_",
        "colab_type": "code",
        "colab": {}
      },
      "source": [
        "def oversample_minority(df, target_col):\n",
        "    # Not ideal way to oversample - using quick and dirty approach for an experiment with mixed sentiments (see below)\n",
        "    max_size = df[target_col].value_counts().max()\n",
        "    dfs = [df]\n",
        "    for class_index, group in df.groupby(target_col):\n",
        "        dfs.append(group.sample(max_size - len(group), replace=True))\n",
        "\n",
        "    return pd.concat(dfs)\n",
        "\n",
        "def accuracy_at_thresh(preds, labels, threshold=0.5):\n",
        "    preds_binary = np.where(preds > threshold, 1, 0)\n",
        "    accuracy = np.sum(preds_binary == labels) / len(labels)\n",
        "    \n",
        "    return accuracy * 100\n",
        "\n",
        "def plot_prec_recall_vs_tresh(labels, preds):\n",
        "    precisions, recalls,thresholds = precision_recall_curve(labels, preds)\n",
        "    plt.plot(thresholds, precisions[:-1], 'b--', label='precision')\n",
        "    plt.plot(thresholds, recalls[:-1], 'g--', label = 'recall')\n",
        "    plt.xlabel('Threshold')\n",
        "    plt.legend(loc='upper left')\n",
        "    plt.ylim([0,1])\n",
        "    plt.show()"
      ],
      "execution_count": 0,
      "outputs": []
    },
    {
      "cell_type": "code",
      "metadata": {
        "id": "CFLoZAU_tkV5",
        "colab_type": "code",
        "colab": {}
      },
      "source": [
        "df_train = pd.read_excel('./Entity_sentiment_trainV2.xlsx')\n",
        "df_test = pd.read_excel('./Entity_sentiment_testV2.xlsx')\n",
        "df_test_small = pd.read_csv('./test_small.csv')\n",
        "\n",
        "df_test['Sentiment'] = np.NaN\n",
        "\n",
        "# The SemEval2014 data cleaned up in a format that works with the existing data\n",
        "# 'exact' refers to a subset of the data where the Sentence contains the Entity - i.e. in the same format as train/test data\n",
        "df_sem_exact_train = pd.read_csv('Semeval2014_exact_train.csv')\n",
        "df_sem_exact_test = pd.read_csv('Semeval2014_exact_test.csv')\n",
        "df_sem_train = pd.read_csv('Semeval2014_train.csv')\n",
        "df_sem_test = pd.read_csv('Semeval2014_test.csv')\n",
        "\n",
        "# Posing the Entity as a question as per QA-M in the paper https://arxiv.org/pdf/1903.09588.pdf\n",
        "\n",
        "def add_qa_format(df):\n",
        "    # Can be a bit slow using apply, but it's only a small dataset\n",
        "    df['EntityQA'] = df.Entity.apply(lambda x: f'what do you think of the {x} of it?')\n",
        "\n",
        "add_qa_format(df_train)\n",
        "add_qa_format(df_test)\n",
        "add_qa_format(df_test_small)\n",
        "add_qa_format(df_sem_exact_train)\n",
        "add_qa_format(df_sem_exact_test)\n",
        "add_qa_format(df_sem_train)\n",
        "add_qa_format(df_sem_test)\n",
        "\n",
        "# Data where the classes are equal, for use below\n",
        "df_train_bal = oversample_minority(df_train, 'Sentiment')"
      ],
      "execution_count": 0,
      "outputs": []
    },
    {
      "cell_type": "markdown",
      "metadata": {
        "id": "ZQH-cNV4OFw0",
        "colab_type": "text"
      },
      "source": [
        "# Mixing sentiments to try and improve TABSA"
      ]
    },
    {
      "cell_type": "code",
      "metadata": {
        "id": "8SsX4y3jPrvN",
        "colab_type": "code",
        "colab": {}
      },
      "source": [
        "# Mix together the positive and negative sentiments in the sentence data to make the TASBA harder\n",
        "# This is a random concatenation and random order of positive and negative e.g.\n",
        "\n",
        "# Sentence | Entity | Sentiment\n",
        "# Axa had great customer service. <inserted negative sentiment>Axa was expensive<end> | service | positive\n",
        "\n",
        "df_pos = df_train_bal.loc[df_train_bal.Sentiment == 'positive'].sample(frac=1).reset_index(drop=True)\n",
        "df_neg = df_train_bal.loc[df_train_bal.Sentiment == 'negative'].sample(frac=1).reset_index(drop=True)\n",
        "\n",
        "df_pos['SentMixed'] = np.where(\n",
        "    np.random.random(len(df_pos)) > 0.5, \n",
        "    df_pos.Sentence.str.cat(df_neg.Sentence, sep=\". \"), \n",
        "    df_neg.Sentence.str.cat(df_pos.Sentence, sep=\". \")\n",
        "    )\n",
        "\n",
        "# re-shuffle the data\n",
        "df_neg = df_neg.sample(frac=1).reset_index(drop=True)\n",
        "\n",
        "df_neg['SentMixed'] = np.where(\n",
        "    np.random.random(len(df_pos)) > 0.5, \n",
        "    df_pos.Sentence.str.cat(df_neg.Sentence, sep=\". \"), \n",
        "    df_neg.Sentence.str.cat(df_pos.Sentence, sep=\". \")\n",
        "    )\n",
        "\n",
        "# combine pos and neg\n",
        "df_mixed = df_pos.append(df_neg).reset_index(drop=True)\n",
        "# Remove any double full stops that were created by the joins\n",
        "df_mixed.SentMixed = df_mixed.SentMixed.str.replace(r'\\.+', '.')\n",
        "\n",
        "# Also try a feature where the mixed sentiment is only applied half of the time\n",
        "df_mixed['SentMixedRand'] = np.where(np.random.random(len(df_mixed)) > 0.5, df_mixed.SentMixed, df_mixed.Sentence)"
      ],
      "execution_count": 0,
      "outputs": []
    },
    {
      "cell_type": "markdown",
      "metadata": {
        "id": "CL3EEkp9IeLr",
        "colab_type": "text"
      },
      "source": [
        "# Training"
      ]
    },
    {
      "cell_type": "code",
      "metadata": {
        "id": "4R-sB_zxjWaa",
        "colab_type": "code",
        "colab": {}
      },
      "source": [
        "# Combining both Logically and SemEval training data for an experiment\n",
        "df_sem_exact_train['SentMixedRand'] = df_sem_exact_train.Sentence\n",
        "df_train_all = df_sem_exact_train.append(df_mixed)"
      ],
      "execution_count": 0,
      "outputs": []
    },
    {
      "cell_type": "code",
      "metadata": {
        "id": "Bwt5isqMgKMX",
        "colab_type": "code",
        "outputId": "3abd7bf3-e8c6-49a7-bb5d-f8a62d7fbbd8",
        "colab": {
          "base_uri": "https://localhost:8080/",
          "height": 52
        }
      },
      "source": [
        "BS = 32\n",
        "BS_EVAL = 32\n",
        "\n",
        "# Trying out the different features to see which works best\n",
        "# For all approaches I've used the Sentence-pair approach as it signficantly outperformed BERT Single in the paper\n",
        "\n",
        "# Acronyms match those of the paper\n",
        "### NLI-M\n",
        "# features = list(zip(df_train.Sentence.values, df_train.Entity.values))\n",
        "# labels = torch.tensor(np.where(df_train.Sentiment == 'positive', 1, 0))\n",
        "\n",
        "### NLI-M - All mixed sentiment (not good)\n",
        "# features = list(zip(df_mixed.SentMixed.values, df_mixed.Entity.values))\n",
        "# labels = torch.tensor(np.where(df_mixed.Sentiment == 'positive', 1, 0))\n",
        "\n",
        "### NLI-M - Half mixed sentiment\n",
        "features = list(zip(df_mixed.SentMixedRand.values, df_mixed.Entity.values))\n",
        "labels = torch.tensor(np.where(df_mixed.Sentiment == 'positive', 1, 0))\n",
        "\n",
        "### QA-M - Half mixed sentiment\n",
        "# features = list(zip(df_mixed.SentMixedRand.values, df_mixed.EntityQA.values))\n",
        "# labels = torch.tensor(np.where(df_mixed.Sentiment == 'positive', 1, 0))\n",
        "\n",
        "# Using huggingface transformers\n",
        "tokenizer = BertTokenizer.from_pretrained('bert-base-uncased')\n",
        "\n",
        "# This handles the data prep e.g. lowercasing, tokenising, adding special tokens such as [CLS] [SEP]\n",
        "features_dict = tokenizer.batch_encode_plus(\n",
        "        batch_text_or_text_pairs=features, # We're using pair\n",
        "        add_special_tokens = True,\n",
        "        pad_to_max_length = 'right',\n",
        "        return_tensors = 'pt',\n",
        "        return_token_type_ids=True,\n",
        "        return_attention_masks=True)\n",
        "\n",
        "development_ds = TensorDataset(\n",
        "    features_dict['attention_mask'],\n",
        "    features_dict['input_ids'],\n",
        "    features_dict['token_type_ids'],\n",
        "    labels)\n",
        "\n",
        "# 80/20 split\n",
        "val_size = len(development_ds) // 5\n",
        "train_size = len(development_ds) - val_size\n",
        "\n",
        "train_data, val_data = torch.utils.data.random_split(development_ds, [train_size, val_size])\n",
        "\n",
        "print(f'Train size: {len(train_data)}')\n",
        "print(f'Validation size: {len(val_data)}')\n",
        "\n",
        "train_dl = DataLoader(train_data, sampler=RandomSampler(train_data), batch_size=BS)\n",
        "val_dl = DataLoader(val_data, batch_size=BS_EVAL, shuffle=False)"
      ],
      "execution_count": 8,
      "outputs": [
        {
          "output_type": "stream",
          "text": [
            "Train size: 6560\n",
            "Validation size: 1640\n"
          ],
          "name": "stdout"
        }
      ]
    },
    {
      "cell_type": "code",
      "metadata": {
        "id": "IbdByU1enNko",
        "colab_type": "code",
        "outputId": "f971ff2c-8a7b-44e2-bdc5-845ec70fe06f",
        "colab": {
          "base_uri": "https://localhost:8080/",
          "height": 1000,
          "referenced_widgets": [
            "7bc90445672640eca986607d71064369",
            "8ff3985cc11e4395a98d2f00d20571ca",
            "3ea5b8091d614e03b67ef31f842bf846",
            "7e09d6d12adf458187e8e1d391db8d48",
            "5268f913fbd34be98009c5c239d9d425",
            "203947a4301e4d1fa68672c50573b0bb",
            "354dd9bf320e44f393a3fd2dc283bcd2",
            "648a01c9b4ce41fb93b99763dba94c89",
            "f32e49fd0dd84e1a875eb378cad4db85",
            "89ade2c03e914ae6bc48a9364b8b8b7b",
            "9a2e6fa267d94e94b1485cdf87b96e8b",
            "1400d4606351464aa068a000b759d241",
            "3759f94f1f2f4e86af2bb2bf44a71cf4",
            "590addc24fac4d47add2b53ef0a63128",
            "32a384c3c91944cc856c00ed4d6c2353",
            "d224fae8b62d4af5ade658e267ee22e7",
            "4bf61974f6a6488daa87e64563360048",
            "c4993e251dec4864af0b425fba2a3155",
            "513744aa81e04cc4a9af39a249bf86c3",
            "390fbcfb0b3042378b96a30d4ec56f30",
            "aa8315c6e4294a368170c64ecd981488",
            "0e27524b3e2341a1851cfcb55826ebdd",
            "d8c7c0dfe0ca4006b3e9cbc1a652cbf7",
            "f3e5589af86947c48dff3660301edf0a",
            "bbd8640edd9941da8d6fdd1de4cd2936",
            "6b1197c3d2854b4b97200d8c3b5eeb8a",
            "a3c8679eeeda4129a5c38038f9355ac9",
            "021d93c5dd084dbe85962b43b58ba8bb",
            "84ff06abc43a44b4a6bdbbc07c1bf77c",
            "cd5b0790aed94377ac31d0cc2d452934",
            "c0363d39378045e28b09f4c903b79dea",
            "f5fc84dad656441f8c379bc326126a5f"
          ]
        }
      },
      "source": [
        "# Didn't have time for grid/random search of hyperparameters or k-fold CV. Did manual tuning of LR and EPOCHS\n",
        "# Starting point for LR was 5e-5 as per the code from the paper https://github.com/HSLCY/ABSA-BERT-pair\n",
        "\n",
        "LR = 5e-5\n",
        "EPOCHS = 3\n",
        "\n",
        "model = BertForSequenceClassification.from_pretrained(\"bert-base-uncased\", num_labels=2).to(device)\n",
        "\n",
        "# Use AdamW with weight decay fix like the paper\n",
        "optimizer = AdamW(model.parameters(), lr=LR)\n",
        "losses = []\n",
        "\n",
        "# Pretty standard PyTorch training loop\n",
        "for epoch in tqdm(range(1, EPOCHS +1), desc=\"Epoch\"):\n",
        "\n",
        "    model.train()\n",
        "    tr_loss = 0\n",
        "    nb_tr_examples, nb_tr_steps = 0, 0\n",
        "\n",
        "    for step, batch in enumerate(tqdm(train_dl, desc=\"Train Iter\")):\n",
        "        batch = tuple(t.to(device) for t in batch)\n",
        "        attention_mask, input_ids, token_type_ids, label_ids = batch\n",
        "\n",
        "        model.zero_grad()\n",
        "        loss, logits = model(input_ids,\n",
        "                             token_type_ids=token_type_ids,\n",
        "                             attention_mask=attention_mask,\n",
        "                             labels=label_ids)\n",
        "\n",
        "        tr_loss += loss.item()\n",
        "        loss.backward()\n",
        "        # Not sure it's necessary, but they do this in the hugging face repo\n",
        "        torch.nn.utils.clip_grad_norm_(model.parameters(), 1.0)\n",
        "        optimizer.step()\n",
        "\n",
        "        nb_tr_examples += input_ids.size(0)\n",
        "        nb_tr_steps += 1\n",
        "    \n",
        "    model.eval()\n",
        "    val_loss = 0\n",
        "    nb_val_steps, nb_val_examples = 0, 0\n",
        "    tr_labels, tr_preds = None, None\n",
        "\n",
        "    for step, batch in enumerate(val_dl):\n",
        "        batch = tuple(t.to(device) for t in batch)\n",
        "        attention_mask, input_ids, token_type_ids, label_ids = batch\n",
        "\n",
        "        tmp_val_loss, logits = model(input_ids,\n",
        "                             token_type_ids=token_type_ids,\n",
        "                             attention_mask=attention_mask,\n",
        "                             labels=label_ids)\n",
        "\n",
        "        logits = F.softmax(logits, dim=-1)\n",
        "        logits = logits.detach().cpu().numpy()\n",
        "        label_ids = label_ids.to('cpu').numpy()\n",
        "\n",
        "        # Not ideal collecting the performance data like this - would normally use Tensorboard\n",
        "        tr_preds = logits[:, 1] if tr_preds is None else np.append(tr_preds, logits[:, 1])\n",
        "        tr_labels = label_ids if tr_labels is None else np.append(tr_labels, label_ids)\n",
        "\n",
        "        val_loss += tmp_val_loss.mean().item()\n",
        "        nb_val_examples += input_ids.size(0)\n",
        "        nb_val_steps += 1\n",
        "\n",
        "    tr_loss = tr_loss / nb_tr_steps\n",
        "    val_loss = val_loss / nb_val_steps\n",
        "    auc = roc_auc_score(tr_labels, tr_preds)\n",
        "    losses.append((tr_loss, val_loss))\n",
        "\n",
        "    print(f'Epoch: {epoch} | Train Loss: {round(tr_loss,5)} | Val Loss: {round(val_loss, 5)} | Val AUC: {round(auc, 3)}\\n')\n",
        "\n",
        "plot_prec_recall_vs_tresh(tr_labels, tr_preds)\n",
        "pd.DataFrame(tr_preds).hist()\n",
        "pd.DataFrame(losses, columns=['Train', 'Val']).plot()"
      ],
      "execution_count": 9,
      "outputs": [
        {
          "output_type": "display_data",
          "data": {
            "application/vnd.jupyter.widget-view+json": {
              "model_id": "7bc90445672640eca986607d71064369",
              "version_minor": 0,
              "version_major": 2
            },
            "text/plain": [
              "HBox(children=(IntProgress(value=0, description='Epoch', max=3, style=ProgressStyle(description_width='initial…"
            ]
          },
          "metadata": {
            "tags": []
          }
        },
        {
          "output_type": "display_data",
          "data": {
            "application/vnd.jupyter.widget-view+json": {
              "model_id": "f32e49fd0dd84e1a875eb378cad4db85",
              "version_minor": 0,
              "version_major": 2
            },
            "text/plain": [
              "HBox(children=(IntProgress(value=0, description='Train Iter', max=205, style=ProgressStyle(description_width='…"
            ]
          },
          "metadata": {
            "tags": []
          }
        },
        {
          "output_type": "stream",
          "text": [
            "\n",
            "Epoch: 1 | Train Loss: 0.3426 | Val Loss: 0.23397 | Val AUC: 0.968\n",
            "\n"
          ],
          "name": "stdout"
        },
        {
          "output_type": "display_data",
          "data": {
            "application/vnd.jupyter.widget-view+json": {
              "model_id": "4bf61974f6a6488daa87e64563360048",
              "version_minor": 0,
              "version_major": 2
            },
            "text/plain": [
              "HBox(children=(IntProgress(value=0, description='Train Iter', max=205, style=ProgressStyle(description_width='…"
            ]
          },
          "metadata": {
            "tags": []
          }
        },
        {
          "output_type": "stream",
          "text": [
            "\n",
            "Epoch: 2 | Train Loss: 0.1514 | Val Loss: 0.18991 | Val AUC: 0.978\n",
            "\n"
          ],
          "name": "stdout"
        },
        {
          "output_type": "display_data",
          "data": {
            "application/vnd.jupyter.widget-view+json": {
              "model_id": "bbd8640edd9941da8d6fdd1de4cd2936",
              "version_minor": 0,
              "version_major": 2
            },
            "text/plain": [
              "HBox(children=(IntProgress(value=0, description='Train Iter', max=205, style=ProgressStyle(description_width='…"
            ]
          },
          "metadata": {
            "tags": []
          }
        },
        {
          "output_type": "stream",
          "text": [
            "\n",
            "Epoch: 3 | Train Loss: 0.0912 | Val Loss: 0.1834 | Val AUC: 0.987\n",
            "\n",
            "\n"
          ],
          "name": "stdout"
        },
        {
          "output_type": "display_data",
          "data": {
            "image/png": "[encoded data removed]",
            "text/plain": [
              "<Figure size 720x360 with 1 Axes>"
            ]
          },
          "metadata": {
            "tags": [],
            "needs_background": "light"
          }
        },
        {
          "output_type": "execute_result",
          "data": {
            "text/plain": [
              "<matplotlib.axes._subplots.AxesSubplot at 0x7f2ce3affcc0>"
            ]
          },
          "metadata": {
            "tags": []
          },
          "execution_count": 9
        },
        {
          "output_type": "display_data",
          "data": {
            "image/png": "[encoded data removed]",
            "text/plain": [
              "<Figure size 720x360 with 1 Axes>"
            ]
          },
          "metadata": {
            "tags": [],
            "needs_background": "light"
          }
        },
        {
          "output_type": "display_data",
          "data": {
            "image/png": "[encoded data removed]",
            "text/plain": [
              "<Figure size 720x360 with 1 Axes>"
            ]
          },
          "metadata": {
            "tags": [],
            "needs_background": "light"
          }
        }
      ]
    },
    {
      "cell_type": "markdown",
      "metadata": {
        "id": "vlW4LzHCv6Fi",
        "colab_type": "text"
      },
      "source": [
        "# Evaluate various indpendent datasets & Save Test Set Predictions"
      ]
    },
    {
      "cell_type": "code",
      "metadata": {
        "id": "KFR-dCs9ebBf",
        "colab_type": "code",
        "colab": {}
      },
      "source": [
        "# Ignore\n",
        "save_path = 'drive/My Drive/Colab/data/models/'"
      ],
      "execution_count": 0,
      "outputs": []
    },
    {
      "cell_type": "code",
      "metadata": {
        "id": "koeuosNEiHEv",
        "colab_type": "code",
        "colab": {}
      },
      "source": [
        "# torch.save(model.state_dict(), f'{save_path}NLIM-3.mod')"
      ],
      "execution_count": 0,
      "outputs": []
    },
    {
      "cell_type": "code",
      "metadata": {
        "id": "0qLsEmYhG3G2",
        "colab_type": "code",
        "colab": {}
      },
      "source": [
        "def eval(eval_df, model, qa=False, saved_model='', show_charts=False, acc_treshold=0.5, return_preds=False):\n",
        "\n",
        "    if saved_model:\n",
        "        model.load_state_dict(torch.load(f'{save_path}{saved_model}'))\n",
        "\n",
        "    # Switches between question answering format and plain sentence pairs\n",
        "    if qa or 'qa' in saved_model.lower():\n",
        "        test_features = list(zip(eval_df.Sentence.values, eval_df.Entity.values))\n",
        "    else:\n",
        "        test_features = list(zip(eval_df.Sentence.values, eval_df.EntityQA.values))\n",
        "\n",
        "    test_labels = torch.tensor(np.where(eval_df.Sentiment == 'positive', 1, 0))\n",
        "\n",
        "    test_features_dict = tokenizer.batch_encode_plus(\n",
        "            batch_text_or_text_pairs=test_features,\n",
        "            add_special_tokens = True,\n",
        "            pad_to_max_length = 'right',\n",
        "            return_tensors = 'pt',\n",
        "            return_token_type_ids=True,\n",
        "            return_attention_masks=True)\n",
        "\n",
        "    test_ds = TensorDataset(\n",
        "        test_features_dict['attention_mask'],\n",
        "        test_features_dict['input_ids'],\n",
        "        test_features_dict['token_type_ids'],\n",
        "        test_labels)\n",
        "\n",
        "    test_dl = DataLoader(test_ds, batch_size=BS_EVAL, shuffle=False)\n",
        "\n",
        "    t_labels, t_preds = None, None\n",
        "    model.eval()\n",
        "\n",
        "    for step, batch in enumerate(test_dl):\n",
        "        batch = tuple(t.to(device) for t in batch)\n",
        "        attention_mask, input_ids, token_type_ids, label_ids = batch\n",
        "\n",
        "        logits = model(input_ids,\n",
        "                       token_type_ids=token_type_ids,\n",
        "                       attention_mask=attention_mask)\n",
        "\n",
        "        logits = F.softmax(logits[0], dim=-1)\n",
        "        logits = logits.detach().cpu().numpy()\n",
        "        label_ids = label_ids.to('cpu').numpy()\n",
        "        t_preds = logits[:, 1] if t_preds is None else np.append(t_preds, logits[:, 1])\n",
        "        t_labels = label_ids if t_labels is None else np.append(t_labels, label_ids)\n",
        "\n",
        "\n",
        "    if return_preds:\n",
        "        return t_preds\n",
        "\n",
        "    auc = roc_auc_score(t_labels, t_preds)\n",
        "    acc = accuracy_at_thresh(t_preds, t_labels, acc_treshold)\n",
        "\n",
        "    if not saved_model:\n",
        "        saved_model = 'current'\n",
        "    print(f'Model: {saved_model.ljust(25)} | AUC: {str(round(auc, 2)).ljust(4)} | Accuracy @ {acc_treshold}: {round(acc, 1)}')\n",
        "\n",
        "    if show_charts:\n",
        "        plot_prec_recall_vs_tresh(t_labels, t_preds)\n",
        "        pd.DataFrame(t_preds).hist()"
      ],
      "execution_count": 0,
      "outputs": []
    },
    {
      "cell_type": "code",
      "metadata": {
        "id": "HZKjRgq3lkZq",
        "colab_type": "code",
        "colab": {
          "base_uri": "https://localhost:8080/",
          "height": 692
        },
        "outputId": "369651a6-d818-4c70-da39-d0b1b92bea5e"
      },
      "source": [
        "# There's no representative data to test, so I'm checking a couple of other datasets to get a game on out of distribution data\n",
        "# First the SemEval test set. As you can see we nearly match the paper (though limited it to 'exact' examples like the training data)\n",
        "eval(df_sem_exact_test, model)\n",
        "# The second is a set of 30 hand labeled samples from the test data. In particular I pulled out some ones with opposing sentiment\n",
        "eval(df_test_small, model, show_charts=True)"
      ],
      "execution_count": 13,
      "outputs": [
        {
          "output_type": "stream",
          "text": [
            "Model: current                   | AUC: 0.95 | Accuracy @ 0.5: 90.7\n",
            "Model: current                   | AUC: 0.74 | Accuracy @ 0.5: 62.1\n"
          ],
          "name": "stdout"
        },
        {
          "output_type": "display_data",
          "data": {
            "image/png": "[encoded data removed]",
            "text/plain": [
              "<Figure size 720x360 with 1 Axes>"
            ]
          },
          "metadata": {
            "tags": [],
            "needs_background": "light"
          }
        },
        {
          "output_type": "display_data",
          "data": {
            "image/png": "[encoded data removed]",
            "text/plain": [
              "<Figure size 720x360 with 1 Axes>"
            ]
          },
          "metadata": {
            "tags": [],
            "needs_background": "light"
          }
        }
      ]
    },
    {
      "cell_type": "code",
      "metadata": {
        "id": "9Gh2tnXjXlO2",
        "colab_type": "code",
        "colab": {
          "base_uri": "https://localhost:8080/",
          "height": 406
        },
        "outputId": "642f3867-4c6e-4c17-ef3d-c5a26e56d849"
      },
      "source": [
        " # predictions on the test set look confident which seems promising\n",
        "test_preds = eval(df_test, model, return_preds=True)\n",
        "pd.DataFrame(test_preds).hist()"
      ],
      "execution_count": 14,
      "outputs": [
        {
          "output_type": "stream",
          "text": [
            "/usr/local/lib/python3.6/dist-packages/pandas/core/ops/array_ops.py:253: FutureWarning: elementwise comparison failed; returning scalar instead, but in the future will perform elementwise comparison\n",
            "  res_values = method(rvalues)\n"
          ],
          "name": "stderr"
        },
        {
          "output_type": "execute_result",
          "data": {
            "text/plain": [
              "array([[<matplotlib.axes._subplots.AxesSubplot object at 0x7f2ce340bda0>]],\n",
              "      dtype=object)"
            ]
          },
          "metadata": {
            "tags": []
          },
          "execution_count": 14
        },
        {
          "output_type": "display_data",
          "data": {
            "image/png": "[encoded data removed]",
            "text/plain": [
              "<Figure size 720x360 with 1 Axes>"
            ]
          },
          "metadata": {
            "tags": [],
            "needs_background": "light"
          }
        }
      ]
    },
    {
      "cell_type": "code",
      "metadata": {
        "id": "CuWOPEVHYS2V",
        "colab_type": "code",
        "colab": {}
      },
      "source": [
        "df_results = df_test.copy()\n",
        "df_results['Probability'] = test_preds\n",
        "df_results['Sentiment'] = np.where(df_results.Probability > 0.5, 'positive', 'negative')\n",
        "df_results[['Sentence', 'Entity', 'Sentiment', 'Probability']].to_csv('Entity_sentiment_testV2_Results.csv', index=False)"
      ],
      "execution_count": 0,
      "outputs": []
    },
    {
      "cell_type": "markdown",
      "metadata": {
        "id": "mBjXR32LVyas",
        "colab_type": "text"
      },
      "source": [
        "# Evaluate previous saved models"
      ]
    },
    {
      "cell_type": "markdown",
      "metadata": {
        "id": "E2uuu2ykK-3j",
        "colab_type": "text"
      },
      "source": [
        "Final choice of model was 'NLIMSentMixed-3.mod' - which is the pseudo question approach, but where half of the training data had opposing sentiment added from elsewhere in the trainng data. This performed well across all datasets, plus the distribution of the model probabilities was confident and nicely aligned."
      ]
    },
    {
      "cell_type": "code",
      "metadata": {
        "id": "Vp1D-gsln3tM",
        "colab_type": "code",
        "outputId": "ce5c9965-b993-4523-b22d-5b2717545380",
        "colab": {
          "base_uri": "https://localhost:8080/",
          "height": 247
        }
      },
      "source": [
        "if os.path.exists(save_path):\n",
        "    for saved_model in sorted(os.listdir(save_path)):\n",
        "        eval(df_sem_test, model, saved_model=saved_model)"
      ],
      "execution_count": 16,
      "outputs": [
        {
          "output_type": "stream",
          "text": [
            "Model: NLIM-2.mod                | AUC: 0.94 | Accuracy @ 0.5: 87.8\n",
            "Model: NLIM-3.mod                | AUC: 0.94 | Accuracy @ 0.5: 88.4\n",
            "Model: NLIMSentMixed-2.mod       | AUC: 0.43 | Accuracy @ 0.5: 43.0\n",
            "Model: NLIMSentMixed-3.mod       | AUC: 0.92 | Accuracy @ 0.5: 86.6\n",
            "Model: NLIMSentMixedRand-2.mod   | AUC: 0.93 | Accuracy @ 0.5: 87.8\n",
            "Model: NLIMsentmixed4.mod        | AUC: 0.9  | Accuracy @ 0.5: 84.9\n",
            "Model: QASentMixed-2.mod         | AUC: 0.92 | Accuracy @ 0.5: 78.3\n",
            "Model: QASentMixed-3.mod         | AUC: 0.84 | Accuracy @ 0.5: 81.7\n",
            "Model: QASentMixedFlipped-3.mod  | AUC: 0.92 | Accuracy @ 0.5: 82.3\n",
            "Model: QASentMixedFlipped-8.mod  | AUC: 0.91 | Accuracy @ 0.5: 84.4\n",
            "Model: QASentMixedSemEval-2.mod  | AUC: 0.91 | Accuracy @ 0.5: 84.2\n",
            "Model: QASentMixedSemEval-3.mod  | AUC: 0.91 | Accuracy @ 0.5: 84.4\n",
            "Model: QASentMixedSemEval-5.mod  | AUC: 0.83 | Accuracy @ 0.5: 78.6\n"
          ],
          "name": "stdout"
        }
      ]
    },
    {
      "cell_type": "code",
      "metadata": {
        "id": "lHnv-ytK5wE8",
        "colab_type": "code",
        "colab": {
          "base_uri": "https://localhost:8080/",
          "height": 247
        },
        "outputId": "e3f42bef-d302-481d-c0bb-aa756b16996c"
      },
      "source": [
        "if os.path.exists(save_path):\n",
        "    for saved_model in sorted(os.listdir(save_path)):\n",
        "        eval(df_test_small, model, saved_model=saved_model)"
      ],
      "execution_count": 17,
      "outputs": [
        {
          "output_type": "stream",
          "text": [
            "Model: NLIM-2.mod                | AUC: 0.76 | Accuracy @ 0.5: 58.6\n",
            "Model: NLIM-3.mod                | AUC: 0.54 | Accuracy @ 0.5: 48.3\n",
            "Model: NLIMSentMixed-2.mod       | AUC: 0.53 | Accuracy @ 0.5: 27.6\n",
            "Model: NLIMSentMixed-3.mod       | AUC: 0.74 | Accuracy @ 0.5: 62.1\n",
            "Model: NLIMSentMixedRand-2.mod   | AUC: 0.74 | Accuracy @ 0.5: 62.1\n",
            "Model: NLIMsentmixed4.mod        | AUC: 0.63 | Accuracy @ 0.5: 65.5\n",
            "Model: QASentMixed-2.mod         | AUC: 0.26 | Accuracy @ 0.5: 55.2\n",
            "Model: QASentMixed-3.mod         | AUC: 0.68 | Accuracy @ 0.5: 55.2\n",
            "Model: QASentMixedFlipped-3.mod  | AUC: 0.62 | Accuracy @ 0.5: 58.6\n",
            "Model: QASentMixedFlipped-8.mod  | AUC: 0.43 | Accuracy @ 0.5: 41.4\n",
            "Model: QASentMixedSemEval-2.mod  | AUC: 0.65 | Accuracy @ 0.5: 55.2\n",
            "Model: QASentMixedSemEval-3.mod  | AUC: 0.43 | Accuracy @ 0.5: 41.4\n",
            "Model: QASentMixedSemEval-5.mod  | AUC: 0.82 | Accuracy @ 0.5: 69.0\n"
          ],
          "name": "stdout"
        }
      ]
    },
    {
      "cell_type": "markdown",
      "metadata": {
        "id": "mdj90iU1WVMD",
        "colab_type": "text"
      },
      "source": [
        "# Data exploration"
      ]
    },
    {
      "cell_type": "code",
      "metadata": {
        "id": "KmV-IpR61k75",
        "colab_type": "code",
        "outputId": "98e5c4f4-72dc-42a0-c159-3cc190023e1d",
        "colab": {
          "base_uri": "https://localhost:8080/",
          "height": 197
        }
      },
      "source": [
        "df_train.head()"
      ],
      "execution_count": 18,
      "outputs": [
        {
          "output_type": "execute_result",
          "data": {
            "text/html": [
              "<div>\n",
              "<style scoped>\n",
              "    .dataframe tbody tr th:only-of-type {\n",
              "        vertical-align: middle;\n",
              "    }\n",
              "\n",
              "    .dataframe tbody tr th {\n",
              "        vertical-align: top;\n",
              "    }\n",
              "\n",
              "    .dataframe thead th {\n",
              "        text-align: right;\n",
              "    }\n",
              "</style>\n",
              "<table border=\"1\" class=\"dataframe\">\n",
              "  <thead>\n",
              "    <tr style=\"text-align: right;\">\n",
              "      <th></th>\n",
              "      <th>Sentence</th>\n",
              "      <th>Entity</th>\n",
              "      <th>Sentiment</th>\n",
              "      <th>EntityQA</th>\n",
              "    </tr>\n",
              "  </thead>\n",
              "  <tbody>\n",
              "    <tr>\n",
              "      <th>0</th>\n",
              "      <td>The website was very easy to use and my insura...</td>\n",
              "      <td>website</td>\n",
              "      <td>positive</td>\n",
              "      <td>what do you think of the website of it?</td>\n",
              "    </tr>\n",
              "    <tr>\n",
              "      <th>1</th>\n",
              "      <td>The web sight was easy to understand and I got...</td>\n",
              "      <td>web sight</td>\n",
              "      <td>positive</td>\n",
              "      <td>what do you think of the web sight of it?</td>\n",
              "    </tr>\n",
              "    <tr>\n",
              "      <th>2</th>\n",
              "      <td>Having filled in the application on-line I cou...</td>\n",
              "      <td>point</td>\n",
              "      <td>negative</td>\n",
              "      <td>what do you think of the point of it?</td>\n",
              "    </tr>\n",
              "    <tr>\n",
              "      <th>3</th>\n",
              "      <td>After finding AXA was cheaper than my renewal ...</td>\n",
              "      <td>prices</td>\n",
              "      <td>positive</td>\n",
              "      <td>what do you think of the prices of it?</td>\n",
              "    </tr>\n",
              "    <tr>\n",
              "      <th>4</th>\n",
              "      <td>The quote was a reasonable price compared with...</td>\n",
              "      <td>insurances</td>\n",
              "      <td>positive</td>\n",
              "      <td>what do you think of the insurances of it?</td>\n",
              "    </tr>\n",
              "  </tbody>\n",
              "</table>\n",
              "</div>"
            ],
            "text/plain": [
              "                                            Sentence  ...                                    EntityQA\n",
              "0  The website was very easy to use and my insura...  ...     what do you think of the website of it?\n",
              "1  The web sight was easy to understand and I got...  ...   what do you think of the web sight of it?\n",
              "2  Having filled in the application on-line I cou...  ...       what do you think of the point of it?\n",
              "3  After finding AXA was cheaper than my renewal ...  ...      what do you think of the prices of it?\n",
              "4  The quote was a reasonable price compared with...  ...  what do you think of the insurances of it?\n",
              "\n",
              "[5 rows x 4 columns]"
            ]
          },
          "metadata": {
            "tags": []
          },
          "execution_count": 18
        }
      ]
    },
    {
      "cell_type": "code",
      "metadata": {
        "id": "M_ss0ImvuYzs",
        "colab_type": "code",
        "outputId": "5156208b-9dd9-48b7-c5f5-98d02f35eb33",
        "colab": {
          "base_uri": "https://localhost:8080/",
          "height": 70
        }
      },
      "source": [
        "train_ents = df_train.Entity.unique()\n",
        "test_ents = df_test.Entity.unique()\n",
        "\n",
        "print(f'Train entities: {len(train_ents)}')\n",
        "print(f'Test entities: {len(test_ents)}')\n",
        "print(f'Intersection: {len(set(train_ents) & set(test_ents))}')"
      ],
      "execution_count": 19,
      "outputs": [
        {
          "output_type": "stream",
          "text": [
            "Train entities: 748\n",
            "Test entities: 255\n",
            "Intersection: 205\n"
          ],
          "name": "stdout"
        }
      ]
    },
    {
      "cell_type": "markdown",
      "metadata": {
        "id": "R7kIaLXJZrVX",
        "colab_type": "text"
      },
      "source": [
        "Need to consider calibration - probably best to align it with the balance of the training data"
      ]
    },
    {
      "cell_type": "code",
      "metadata": {
        "colab_type": "code",
        "outputId": "f6d9dddb-8e6b-4790-d1b3-324ca28cfae6",
        "id": "esre5upfIahJ",
        "colab": {
          "base_uri": "https://localhost:8080/",
          "height": 34
        }
      },
      "source": [
        "pct_pos = (df_train.Sentiment.value_counts() [0] / len(df_train)) * 100\n",
        "print(f'Class balance: {round(pct_pos)} % are postive sentiment')"
      ],
      "execution_count": 20,
      "outputs": [
        {
          "output_type": "stream",
          "text": [
            "Class balance: 68.0 % are postive sentiment\n"
          ],
          "name": "stdout"
        }
      ]
    }
  ]
}